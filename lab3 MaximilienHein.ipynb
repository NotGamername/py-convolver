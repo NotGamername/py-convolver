{
 "cells": [
  {
   "cell_type": "markdown",
   "metadata": {},
   "source": [
    "# ASSIGNMENT 4 - RUNNING CONVOLUTION"
   ]
  },
  {
   "cell_type": "code",
   "execution_count": null,
   "metadata": {},
   "outputs": [],
   "source": [
    "import numpy as np\n",
    "import soundfile as sf\n",
    "import matplotlib.pyplot as plt\n",
    "from scipy import signal\n",
    "import IPython as ip\n",
    "import time"
   ]
  },
  {
   "cell_type": "markdown",
   "metadata": {},
   "source": [
    "### Load the dry signal and the impulse response\n",
    "\n",
    "##### make sure they are mono and have the same sample rate"
   ]
  },
  {
   "cell_type": "code",
   "execution_count": null,
   "metadata": {},
   "outputs": [],
   "source": [
    "ir,sr_ir = sf.read('REW IR Studio A Control 16_44.wav')\n",
    "crir,sr_crir = sf.read('Creative IR_01 16_44.wav')\n",
    "gtr,sr_gtr = sf.read('Guitar.wav')\n",
    "\n",
    "print(sr_ir,sr_gtr,sr_crir)"
   ]
  },
  {
   "cell_type": "markdown",
   "metadata": {},
   "source": [
    "### Running convolution\n",
    "\n",
    "##### You can use functions (and code) done in class to perform direct/fast convolutions within the Running Convolution algorithm. However, note that the assignment consists on the running convolution part."
   ]
  },
  {
   "cell_type": "code",
   "execution_count": null,
   "metadata": {
    "tags": []
   },
   "outputs": [],
   "source": [
    "def dir_conv(x,h):\n",
    "    \n",
    "    c = np.zeros(len(x)+len(h)-1)\n",
    "   \n",
    "    for i in range (len(h)):\n",
    "        c[i:(i+len(x))] += (x * h[i])\n",
    "    \n",
    "    return c"
   ]
  },
  {
   "cell_type": "code",
   "execution_count": null,
   "metadata": {
    "tags": []
   },
   "outputs": [],
   "source": [
    "def fast_conv(x,h):\n",
    "\n",
    "    num_z_x = np.zeros(len(h)-1)\n",
    "    x_z = np.hstack([x,num_z_x])\n",
    "\n",
    "    num_z_h = np.zeros(len(x)-1)\n",
    "    h_z = np.hstack([h,num_z_h])\n",
    "\n",
    "    X = np.fft.fft(x_z)\n",
    "    H = np.fft.fft(h_z)\n",
    "\n",
    "    mult = X * H\n",
    "\n",
    "    result = np.real(np.fft.ifft(mult))\n",
    "\n",
    "    return result"
   ]
  },
  {
   "cell_type": "code",
   "execution_count": null,
   "metadata": {},
   "outputs": [],
   "source": [
    "# [For Points 3,4 and 5 in pdf] Main algorithm\n",
    "\n",
    "def running_convolver (ir, a_input, conv_m, b_size):\n",
    "    \n",
    "    # INPUTS\n",
    "    # ir:  array containing the impulse response\n",
    "    # a_input: array containing a signal\n",
    "    # conv_m: convolution method:\n",
    "    #         -direct convolution\n",
    "    #         -fast convolution\n",
    "    # b_size: length of input segments to be convolved with impulse response \n",
    "\n",
    "    # OUTPUTS:\n",
    "    # ret_conv:         Post-convolution output signal vector\n",
    "    \n",
    "    #Type your code here:\n",
    "    num_seg = int(np.ceil(len(a_input)/b_size))\n",
    "    \n",
    "    place_holder = np.zeros(len(a_input) + len(ir) - 1)\n",
    "\n",
    "    for i in range(num_seg):\n",
    "        st = b_size*i\n",
    "        en = st+b_size\n",
    "        if en > len(a_input):\n",
    "            en = len(a_input)         \n",
    "\n",
    "        buffer = a_input[st:en]\n",
    "        \n",
    "        if conv_m == 'direct': #do it directly\n",
    "            place_holder[st:st + b_size + (len(ir)-1)] += dir_conv(buffer,ir)\n",
    "        elif conv_m == 'fast': #do it with DFT, multiply, IDFT\n",
    "            place_holder[st:st + b_size + (len(ir)-1)] += fast_conv(buffer,ir)\n",
    "        else: print('Please choose \"direct\" or \"fast\"')\n",
    "\n",
    "#         if conv_m == 'direct': #do it directly\n",
    "#             conv_buff = dir_conv(buffer,ir)\n",
    "#         elif conv_m == 'fast': #do it with DFT, multiply, IDFT\n",
    "#             conv_buff = fast_conv(buffer,ir)\n",
    "#         else: print('Please choose \"direct\" or \"fast\"')\n",
    "        \n",
    "#         en_c = st + b_size + (len(ir)-1)\n",
    "        \n",
    "#         place_holder[st:en_c] += conv_buff\n",
    "        \n",
    "    ret_conv = place_holder\n",
    "\n",
    "    return ret_conv"
   ]
  },
  {
   "cell_type": "markdown",
   "metadata": {},
   "source": [
    "### [For Points 3,4 and 5 in pdf] Use your function to convolve Guitar.wav against your IR using a segment length of 512"
   ]
  },
  {
   "cell_type": "code",
   "execution_count": null,
   "metadata": {
    "tags": []
   },
   "outputs": [],
   "source": [
    "b_size = 512\n",
    "a_input = gtr\n",
    "sr = 44100\n",
    "\n",
    "conv_sig = running_convolver(ir, a_input, 'fast', b_size)\n",
    "\n",
    "ip.display.display(ip.display.Audio(conv_sig, rate = sr))"
   ]
  },
  {
   "cell_type": "markdown",
   "metadata": {
    "tags": []
   },
   "source": [
    "### Normalize the result to avoid clipping"
   ]
  },
  {
   "cell_type": "code",
   "execution_count": null,
   "metadata": {},
   "outputs": [],
   "source": [
    "conv_norm = conv_sig/np.max(np.abs(conv_sig))"
   ]
  },
  {
   "cell_type": "markdown",
   "metadata": {},
   "source": [
    "### Export it"
   ]
  },
  {
   "cell_type": "code",
   "execution_count": null,
   "metadata": {},
   "outputs": [],
   "source": [
    "sf.write('ConvolvedSignal.wav',conv_norm,samplerate = sr)"
   ]
  },
  {
   "cell_type": "markdown",
   "metadata": {
    "tags": []
   },
   "source": [
    "## [Point 6 in pdf] Copy your running_convolver function from above and modify it to:\n",
    "- Playback buffers of exactly 8192 samples of the guitar audio convolved against the IR. \n",
    "- Display the operation time for each buffer should also be displayed"
   ]
  },
  {
   "cell_type": "code",
   "execution_count": null,
   "metadata": {},
   "outputs": [],
   "source": [
    "def playback_convolver(ir, a_input, conv_m, b_size):\n",
    "    \n",
    "    # INPUTS\n",
    "    # ir:  array containing the impulse response\n",
    "    # a_input: array containing a signal\n",
    "    # conv_m: convolution method:\n",
    "    #         -direct convolution\n",
    "    #         -fast convolution\n",
    "    # b_size: length of input segments to be convolved with impulse response \n",
    "\n",
    "    # OUTPUTS:\n",
    "    # ret_conv:         Post-convolution output signal vector\n",
    "    \n",
    "    #Type your code here:\n",
    "    num_seg = int(np.ceil(len(a_input)/b_size))\n",
    "    \n",
    "    place_holder = np.zeros(len(a_input) + len(ir) - 1)\n",
    "\n",
    "    for i in range(num_seg):\n",
    "        st = b_size*i\n",
    "        en = st+b_size\n",
    "        if en > len(a_input):\n",
    "            en = len(a_input)\n",
    "\n",
    "        buffer = a_input[st:en]\n",
    "      \n",
    "        if conv_m == 'direct': #do it directly\n",
    "            conv_buff = dir_conv(buffer,ir)\n",
    "        elif conv_m == 'fast': #do it with DFT, multiply, IDFT\n",
    "            conv_buff = fast_conv(buffer,ir)\n",
    "        else: print('Please choose \"direct\" or \"fast\"')\n",
    "\n",
    "        en_c = st + b_size + (len(ir)-1)\n",
    "        \n",
    "        place_holder[st:en_c] += conv_buff\n",
    "    \n",
    "    pb_len = int(np.ceil(len(place_holder)/8192))\n",
    "    \n",
    "    for j in range(pb_len):\n",
    "        start = time.time()\n",
    "            \n",
    "        st = 8192*j\n",
    "        en = st+8192\n",
    "        if en > len(place_holder):\n",
    "            pad = np.zeros(8192-(len(place_holder)-st))\n",
    "            place_holder = np.hstack([place_holder,pad])\n",
    "            en = st+8192\n",
    "            \n",
    "        pb_buff = np.zeros(8192)\n",
    "        \n",
    "        pb_buff += place_holder[st:en]\n",
    "        \n",
    "        ip.display.display(ip.display.Audio(pb_buff, rate = 44100))\n",
    "    \n",
    "        stop = time.time()\n",
    "        print(stop-start)\n",
    "        print('---------')\n",
    "        \n",
    "    return 'Behold the answer to part 6a below!'"
   ]
  },
  {
   "cell_type": "code",
   "execution_count": null,
   "metadata": {},
   "outputs": [],
   "source": [
    "playback_convolver(ir, a_input, 'fast', b_size)"
   ]
  },
  {
   "cell_type": "markdown",
   "metadata": {},
   "source": [
    "##### This would be relevant in a real-time audio application because you can see if your code is efficient enough to run through these buffers fast enough to party in real-time."
   ]
  },
  {
   "cell_type": "markdown",
   "metadata": {},
   "source": [
    "## Extra Credit"
   ]
  },
  {
   "cell_type": "code",
   "execution_count": null,
   "metadata": {},
   "outputs": [],
   "source": [
    "b_size = 512\n",
    "a_input = gtr\n",
    "sr = 44100\n",
    "\n",
    "conv_sig = running_convolver(crir, a_input, 'fast', b_size)\n",
    "\n",
    "ip.display.display(ip.display.Audio(conv_sig, rate = sr))"
   ]
  }
 ],
 "metadata": {
  "kernelspec": {
   "display_name": "Python 3 (ipykernel)",
   "language": "python",
   "name": "python3"
  },
  "language_info": {
   "codemirror_mode": {
    "name": "ipython",
    "version": 3
   },
   "file_extension": ".py",
   "mimetype": "text/x-python",
   "name": "python",
   "nbconvert_exporter": "python",
   "pygments_lexer": "ipython3",
   "version": "3.8.8"
  }
 },
 "nbformat": 4,
 "nbformat_minor": 4
}
